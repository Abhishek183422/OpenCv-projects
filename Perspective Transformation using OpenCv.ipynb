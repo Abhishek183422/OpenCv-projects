{
 "cells": [
  {
   "cell_type": "markdown",
   "id": "499c6aa7",
   "metadata": {},
   "source": [
    "# Getting perspective Transformation"
   ]
  },
  {
   "cell_type": "code",
   "execution_count": 1,
   "id": "07f50f24",
   "metadata": {},
   "outputs": [],
   "source": [
    "import cv2\n",
    "import numpy as np\n",
    "import matplotlib.pyplot as plt"
   ]
  },
  {
   "cell_type": "code",
   "execution_count": 2,
   "id": "7401aa45",
   "metadata": {},
   "outputs": [],
   "source": [
    "#loading the image\n",
    "path='/Users/draculalemon/Downloads/playing-cards-500x500.jpeg'\n",
    "img=cv2.imread(path)\n",
    "cv2.imshow('poker_card',img)\n",
    "cv2.waitKey(0)"
   ]
  },
  {
   "cell_type": "code",
   "execution_count": null,
   "id": "c01a8867",
   "metadata": {},
   "outputs": [],
   "source": [
    "height,width=450,350\n",
    "#coordinate of the 4 corner of the target output\n",
    "new_img_coor=np.float32([[0,0],[width,0],[0,height],[width,height]])\n",
    "\n",
    "#use the two sets of four points to compute the perspective transformation matrix\n",
    "P=cv2.getPerspectiveTransform(orignal_img_coor,new_img_coor)\n",
    "perspective=cv2.warpPerspective(img,P,(width,height))\n",
    "cv2.imshow('warpPerspective',perspective)\n",
    "cv2.waitKey(0)\n",
    "cv2.destroyALLWindows()"
   ]
  }
 ],
 "metadata": {
  "kernelspec": {
   "display_name": "Python 3 (ipykernel)",
   "language": "python",
   "name": "python3"
  },
  "language_info": {
   "codemirror_mode": {
    "name": "ipython",
    "version": 3
   },
   "file_extension": ".py",
   "mimetype": "text/x-python",
   "name": "python",
   "nbconvert_exporter": "python",
   "pygments_lexer": "ipython3",
   "version": "3.7.11"
  }
 },
 "nbformat": 4,
 "nbformat_minor": 5
}
