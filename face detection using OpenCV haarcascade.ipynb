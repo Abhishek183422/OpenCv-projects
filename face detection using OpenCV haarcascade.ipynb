{
 "cells": [
  {
   "cell_type": "markdown",
   "id": "17c65d16",
   "metadata": {},
   "source": [
    "# FACE DETECTION USING OPENCV-HARCASCADE"
   ]
  },
  {
   "cell_type": "code",
   "execution_count": 1,
   "id": "b51e3495",
   "metadata": {},
   "outputs": [],
   "source": [
    "import cv2"
   ]
  },
  {
   "cell_type": "code",
   "execution_count": 2,
   "id": "cefea1e4",
   "metadata": {},
   "outputs": [],
   "source": [
    "#loading the pretrained cascade\n",
    "face_cascade=cv2.CascadeClassifier('/Users/draculalemon/Downloads/haarcascade_frontalface_default.xml')"
   ]
  },
  {
   "cell_type": "code",
   "execution_count": 3,
   "id": "7d380d38",
   "metadata": {},
   "outputs": [],
   "source": [
    "#reading the input image\n",
    "img=cv2.imread('/Users/draculalemon/Downloads/Lenna_png.png')\n",
    "#then we need to convert it in grayscale\n",
    "img_gray=cv2.cvtColor(img,cv2.COLOR_BGR2GRAY)"
   ]
  },
  {
   "cell_type": "code",
   "execution_count": 4,
   "id": "51971116",
   "metadata": {},
   "outputs": [],
   "source": [
    "#now we will detect faces\n",
    "# face = faceCascade.detectMultiScale(\n",
    "#     gray_image,\n",
    "#     scaleFactor = scaleFactor,\n",
    "#     minNeighbors = min_neighbors,\n",
    "#     minSize = (min_size, min_size),\n",
    "#     flags = cv2.CASCADE_SCALE_IMAGE\n",
    "# )\n",
    "faces=face_cascade.detectMultiScale(img_gray,1.1,4)\n",
    "\n",
    "#making the rectangle box as outline around the face when detected\n",
    "for (x,y,w,h) in faces:\n",
    "    cv2.rectangle(img_gray,(x,y),(x+w,y+h),(255,0,0),3)\n",
    "#displaying the output\n",
    "cv2.imshow('imge',img_gray)\n",
    "cv2.waitKey(0)"
   ]
  },
  {
   "cell_type": "code",
   "execution_count": 5,
   "id": "93aa36f7",
   "metadata": {},
   "outputs": [],
   "source": [
    "#now we will thry this model in a group picture\n",
    "img1=cv2.imread('/Users/draculalemon/Downloads/Large-Group.jpg')\n",
    "img_gray1=cv2.cvtColor(img1,cv2.COLOR_BGR2GRAY)\n",
    "faces=face_cascade.detectMultiScale(\n",
    "    img_gray1,\n",
    "    scaleFactor = 1.1,\n",
    "    minNeighbors = 4,\n",
    "    minSize = (30, 30))\n",
    "for (x_cordinates,y_cordinates,width,height) in faces:\n",
    "    cv2.rectangle(img_gray1,(x_cordinates,y_cordinates),(x_cordinates+width,y_cordinates+height),(255,0,0),3)\n",
    "#displaying the output\n",
    "cv2.imshow('imge1',img_gray1)\n",
    "cv2.waitKey(0)"
   ]
  },
  {
   "cell_type": "markdown",
   "id": "ae7ea655",
   "metadata": {},
   "source": [
    "### USING WEBCAM TO DETECT FACE IN OPENCV"
   ]
  },
  {
   "cell_type": "code",
   "execution_count": null,
   "id": "4f688793",
   "metadata": {},
   "outputs": [],
   "source": [
    "capture=cv2.VideoCapture(0) # 0 for using laptop camerea and 1 for using a webcam\n",
    "#now we need to read the video in the loop frame persecond\n",
    "while True:\n",
    "    _,frame=capture.read()\n",
    "    #converting the video into gray scale because harcascade cant perfrom in rgb\n",
    "#   video_gray=cv2.cvtColor(frame,cv2.COLOR_BGR2GRAY)\n",
    "    video_face=face_cascade.detectMultiScale(frame,1.1,2)\n",
    "    #this will draw square around the detected face\n",
    "    for (x_cordinates,y_cordinates,width,height) in video_face:\n",
    "        cv2.rectangle(frame,(x_cordinates,y_cordinates),(x_cordinates+width,y_cordinates+height),\n",
    "                      (255,0,0),3)\n",
    "        cv2.imshow('imgg',frame)\n",
    "\n",
    "    if cv2.waitKey(1) & 0XFF == ('d'):\n",
    "        break\n",
    "cap.release()\n",
    "cv2.waitKey(0)"
   ]
  }
 ],
 "metadata": {
  "kernelspec": {
   "display_name": "Python 3 (ipykernel)",
   "language": "python",
   "name": "python3"
  },
  "language_info": {
   "codemirror_mode": {
    "name": "ipython",
    "version": 3
   },
   "file_extension": ".py",
   "mimetype": "text/x-python",
   "name": "python",
   "nbconvert_exporter": "python",
   "pygments_lexer": "ipython3",
   "version": "3.7.11"
  }
 },
 "nbformat": 4,
 "nbformat_minor": 5
}
